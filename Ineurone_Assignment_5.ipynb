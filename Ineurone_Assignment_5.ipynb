{
  "nbformat": 4,
  "nbformat_minor": 0,
  "metadata": {
    "colab": {
      "name": "Ineurone-Assignment_5.ipynb",
      "provenance": []
    },
    "kernelspec": {
      "name": "python3",
      "display_name": "Python 3"
    },
    "language_info": {
      "name": "python"
    }
  },
  "cells": [
    {
      "cell_type": "markdown",
      "source": [
        "1. What does an empty dictionary's code look like?\n",
        "\n",
        "An empty dictionary can be created by just placing to curly braces { }"
      ],
      "metadata": {
        "id": "DwsKjAJdq7MC"
      }
    },
    {
      "cell_type": "markdown",
      "source": [
        "2. What is the value of a dictionary value with the key 'foo' and the value 42?\n",
        "\n",
        "a={foo:42}\n",
        "a={'foo':42}\n",
        "print(a)\n",
        "{'foo': 42}\n"
      ],
      "metadata": {
        "id": "zqGZcNRxrCJG"
      }
    },
    {
      "cell_type": "markdown",
      "source": [
        "3. What is the most significant distinction between a dictionary and a list?\n",
        "\n",
        "A list is an ordered sequence of objects, whereas dictionaries are unordered sets. However, the main difference is that items in dictionaries are accessed via keys and not via their position. ... Any key of the dictionary is associated (or mapped) to a value. The values of a dictionary can be any type of Python data. Lists allows duplicate value while dictionary do not allow duplicate items with same key."
      ],
      "metadata": {
        "id": "d-Eyt2WyrMKA"
      }
    },
    {
      "cell_type": "markdown",
      "source": [
        "4. What happens if you try to access spam['foo'] if spam is {'bar': 100}?\n",
        "\n",
        "KeyError: 'foo'"
      ],
      "metadata": {
        "id": "is4ve7B7rPTB"
      }
    },
    {
      "cell_type": "markdown",
      "source": [
        "5. If a dictionary is stored in spam, what is the difference between the expressions 'cat' in spam and 'cat' in spam.keys()?\n",
        "\n",
        "‘cat’ in spam will check the ‘cat’ in both the parameters i.e. keys and values inside the dictionary “spam”, whether it is present or not. If it founds, the ‘True’ massage will displayed in console. If it is not inside it, than ‘False’ appear in console.\n",
        "While ‘cat’ in spam.keays() will check the ‘cat’  only  in key parameter of dictionary ‘spam’ If it founds, the ‘True’ massage will displayed in console. If it is not inside it, than ‘False’ appear in console.\n"
      ],
      "metadata": {
        "id": "dUS-0iX6rVZ3"
      }
    },
    {
      "cell_type": "markdown",
      "source": [
        "6. If a dictionary is stored in spam, what is the difference between the expressions 'cat' in spam and 'cat' in spam.values()?\n",
        "\n",
        "\n",
        "‘cat’ in spam will check the ‘cat’ in both the parameters i.e. keys and values inside the dictionary “spam”, whether it is present or not. If it founds, the ‘True’ massage will displayed in console. If it is not inside it, than ‘False’ appear in console.\n",
        "While ‘cat’ in spam.keays() will check the ‘cat’  only  in value parameter of dictionary ‘spam’ If it founds, the ‘True’ massage will displayed in console. If it is not inside it, than ‘False’ appear in console.\n"
      ],
      "metadata": {
        "id": "z_oI6TLIriTq"
      }
    },
    {
      "cell_type": "markdown",
      "source": [
        "7. What is a shortcut for the following code?\n",
        "\n",
        "if 'color' not in spam:\n",
        "spam['color'] = 'black'\n",
        "\n",
        "\n",
        "\n",
        "if color not in spam:spam['color'] = 'black'\n",
        "\n",
        "program :\n",
        "spam={'clo':'fdf'}\n",
        "if color not in spam:spam['color'] = 'black'\n",
        "print(spam['color'])\n",
        "output:\n",
        "black\n"
      ],
      "metadata": {
        "id": "2pL1jxwXs_sK"
      }
    },
    {
      "cell_type": "markdown",
      "source": [
        "8. How do you \"pretty print\" dictionary values using which module and function?\n",
        "\n",
        "\"pretty print\" dictionary values use “ pprint”  module, Within the pprint module there is a function with the same name pprint() , which is the function used to pretty-print the given string or object."
      ],
      "metadata": {
        "id": "BI25noKntSIA"
      }
    },
    {
      "cell_type": "markdown",
      "source": [
        ""
      ],
      "metadata": {
        "id": "T3freaHvrEWs"
      }
    }
  ]
}