{
  "nbformat": 4,
  "nbformat_minor": 0,
  "metadata": {
    "colab": {
      "name": "Ineurone-Assignment_3.ipynb",
      "provenance": []
    },
    "kernelspec": {
      "name": "python3",
      "display_name": "Python 3"
    },
    "language_info": {
      "name": "python"
    }
  },
  "cells": [
    {
      "cell_type": "markdown",
      "source": [
        "1. Why are functions advantageous to have in your programs?\n",
        "\n",
        "The advantages of using functions are:\n",
        "•\tReducing duplication of code.\n",
        "•\tDecomposing complex problems into simpler pieces.\n",
        "•\tImproving clarity of the code.\n",
        "•\tReuse of code.\n",
        "•\tInformation hiding.\n",
        "\n"
      ],
      "metadata": {
        "id": "OAgb4a2qfe-_"
      }
    },
    {
      "cell_type": "markdown",
      "source": [
        "2. When does the code in a function run: when it's specified or when it's called?\n",
        "\n",
        "When it’s called"
      ],
      "metadata": {
        "id": "o-cn5yHqfkI7"
      }
    },
    {
      "cell_type": "markdown",
      "source": [
        "3. What statement creates a function?\n",
        "\n",
        "\n",
        "Python creating functions. A function is created with the def keyword. The statements in the block of the function must be indented. The def keyword is followed by the function name with round brackets and a colon."
      ],
      "metadata": {
        "id": "6iZxckAqfoNF"
      }
    },
    {
      "cell_type": "markdown",
      "source": [
        "4. What is the difference between a function and a function call?\n",
        "\n",
        "\n",
        "\n",
        "A function call means invoking or calling that function. Unless a function is called there is no use of that function. ... So the difference between the function and function call is, A function is procedure to achieve a particular result while function call is using this function to achive that task."
      ],
      "metadata": {
        "id": "jnLK_g6Pfs5r"
      }
    },
    {
      "cell_type": "markdown",
      "source": [
        "5. How many global scopes are there in a Python program? How many local scopes?\n",
        "\n",
        "\n",
        "There are two types of variables: global variables and local variables. The scope of global variables is the entire program whereas the scope of local variable is limited to the function where it is defined.\n",
        "Local Scope\n",
        "A variable created inside a function belongs to the local scope of that function, and can only be used inside that function.\n",
        "The local variable can be accessed from a function within the function:\n",
        "Global Scope\n",
        "A variable created in the main body of the Python code is a global variable and belongs to the global scope.\n",
        "Global variables are available from within any scope, global and local.\n",
        "A variable created outside of a function is global and can be used by anyone:\n",
        "If you need to create a global variable, but are stuck in the local scope, you can use the global keyword.\n",
        "The global keyword makes the variable global.\n",
        "\n"
      ],
      "metadata": {
        "id": "ylwgta1FfxhY"
      }
    },
    {
      "cell_type": "markdown",
      "source": [
        "6. What happens to variables in a local scope when the function call returns?\n",
        "\n",
        "\n",
        "A local variable retains its value until the next time the function is called A local variable becomes undefined after the function call completes The local variable can be used outside the function any time after the function call completes.\n",
        "\n",
        "\n",
        "\n"
      ],
      "metadata": {
        "id": "5h_zuAiJf86s"
      }
    },
    {
      "cell_type": "markdown",
      "source": [
        "7. What is the concept of a return value? Is it possible to have a return value in an expression?\n",
        "\n",
        "\n",
        "A return is a value that a function returns to the calling script or function when it completes its task. A return value can be any one of the four variable types: handle, integer, object, or string. The type of value your function returns depends largely on the task it performs.\n",
        "A return statement is used to end the execution of the function call and “returns” the result (value of the expression following the return keyword) to the caller. The statements after the return statements are not executedYes, it is possible to have a return value in an expression\n"
      ],
      "metadata": {
        "id": "fgbqWZc1gEKF"
      }
    },
    {
      "cell_type": "markdown",
      "source": [
        "8. If a function does not have a return statement, what is the return value of a call to that function?\n",
        "\n",
        "\n",
        "\n",
        ". If the return statement is without any expression, then the special value None is returned."
      ],
      "metadata": {
        "id": "QDjeVNppgIgG"
      }
    },
    {
      "cell_type": "markdown",
      "source": [
        "9. How do you make a function variable refer to the global variable?\n",
        "\n",
        "\n",
        "If you need to create a global variable, but are stuck in the local scope, you can use the global keyword.\n",
        "The global keyword makes the variable global.\n"
      ],
      "metadata": {
        "id": "l8fcWzeNgN4t"
      }
    },
    {
      "cell_type": "markdown",
      "source": [
        "10. What is the data type of None?\n",
        "\n",
        "NoneType"
      ],
      "metadata": {
        "id": "JuLZmUyLgS4e"
      }
    },
    {
      "cell_type": "markdown",
      "source": [
        "11. What does the sentence import areallyourpetsnamederic do?\n",
        "\n",
        "That import statement imports a module named areallyourpetsnamederic."
      ],
      "metadata": {
        "id": "Cc0BCTxZgS9H"
      }
    },
    {
      "cell_type": "markdown",
      "source": [
        "12. If you had a bacon() feature in a spam module, what would you call it after importing spam?\n",
        "\n",
        "Spam.bacon()"
      ],
      "metadata": {
        "id": "xrSiKS7Egew7"
      }
    },
    {
      "cell_type": "markdown",
      "source": [
        "13. What can you do to save a programme from crashing if it encounters an error?\n",
        "\n",
        "Prevents  program from crashing if an error occurs. If an error occurs in a program, we don't want the program to unexpectedly crash on the user. Instead, error handling can be used to notify the user of why the error occurred and gracefully exit the process that caused the error."
      ],
      "metadata": {
        "id": "39uy_HeHgj3l"
      }
    },
    {
      "cell_type": "markdown",
      "source": [
        "14. What is the purpose of the try clause? What is the purpose of the except clause?\n",
        "\n",
        "The try block allows you to test a block of code for errors. The except block enables you to handle the error with a user-defined response."
      ],
      "metadata": {
        "id": "hWzFjKW2gsoQ"
      }
    },
    {
      "cell_type": "markdown",
      "source": [
        ""
      ],
      "metadata": {
        "id": "h2jRngGogw3C"
      }
    },
    {
      "cell_type": "markdown",
      "source": [
        ""
      ],
      "metadata": {
        "id": "azk8M9dngmn2"
      }
    }
  ]
}