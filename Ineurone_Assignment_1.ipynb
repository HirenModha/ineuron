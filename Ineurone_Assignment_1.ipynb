{
  "nbformat": 4,
  "nbformat_minor": 0,
  "metadata": {
    "colab": {
      "name": "Ineurone-Assignment.ipynb",
      "provenance": []
    },
    "kernelspec": {
      "name": "python3",
      "display_name": "Python 3"
    },
    "language_info": {
      "name": "python"
    }
  },
  "cells": [
    {
      "cell_type": "markdown",
      "source": [
        "1. In the below elements which of them are values or an expression? eg:- values can be integer or string and expressions will be mathematical operators.\n",
        "\n",
        "*            expression\n",
        "'hello'      value\n",
        "-87.8        value\n",
        "-            expression\n",
        "\n",
        "/            expression\n",
        "\n",
        "+\t           expression\n",
        "\n",
        "6            value\n"
      ],
      "metadata": {
        "id": "U48F7PSkRich"
      }
    },
    {
      "cell_type": "markdown",
      "source": [
        "2. What is the difference between string and variable?\n",
        "\n",
        "Variables are symbols that you can use to store data in a program. You can think of them as an empty box that you fill with some data or value. Strings are data, so we can use them to fill up a variable. Declaring strings as variables can make it easier for us to work with strings throughout our Python programs."
      ],
      "metadata": {
        "id": "BMSnLlrDSE0i"
      }
    },
    {
      "cell_type": "markdown",
      "source": [
        ""
      ],
      "metadata": {
        "id": "IilfUVUoRomz"
      }
    },
    {
      "cell_type": "markdown",
      "source": [
        "3. Describe three different data types.\n",
        "\n",
        "LIST:\n",
        "\n",
        "An ordered sequence of items is called List. It is a very flexible data type in Python. There is no need for the value in the list to be of the same data type. The List is the data type that is highly used data type in Python. List datatype is the most exclusive datatype in Python for containing versatile data. It can easily hold different types of data in Python.  \n",
        "It is effortless to declare a list. The list is enclosed with brackets and commas are used to separate the items. \n",
        "\n",
        "A list can look like this:\n",
        "\n",
        ">>> a = [5,9.9,’list’]\n",
        "\n",
        "TUPLE:\n",
        "\n",
        "A Tuple is a sequence of items that are in order, and it is not possible to modify the Tuples. The main difference list and tuples are that tuple is immutable, which means it cannot be altered. Tuples are generally faster than the list data type in Python because it cannot be changed or modified like list datatype. The primary use of Tuples is to write-protect data. Tuples can be represented by using parentheses (), and commas are used to separate the items. \n",
        "Tuples can look like this:\n",
        ">>> t = (6,’tuple’,4+2r)\n",
        "\n",
        "String:\n",
        "\n",
        "A String is a sequence of Unicode characters. In Python, String is called str. Strings are represented by using Double quotes or single quotes. If the strings are multiple, then it can be denoted by the use of triple quotes “”” or ”’. All the characters between the quotes are items of the string.\n",
        "One can put as many as the character they want with the only limitation being the memory resources of the machine system. Deletion or Updation of a string is not allowed in python programming language because it will cause an error. Thus, the modification of strings is not supported in the python programming language.\n",
        "A string can look like this:\n",
        ">>> s = “Python String”\n",
        "\n"
      ],
      "metadata": {
        "id": "rMsrutBaSRVN"
      }
    },
    {
      "cell_type": "markdown",
      "source": [
        "4. What is an expression made up of? What do all expressions do?\n",
        "\n",
        "An expression is a combination of operators and operands that is interpreted to produce some other value. In any programming language, an expression is evaluated as per the precedence of its operators."
      ],
      "metadata": {
        "id": "Hlt2vDLxSZqV"
      }
    },
    {
      "cell_type": "markdown",
      "source": [
        "5. This assignment statements, like spam = 10. What is the difference between an expression and a statement?\n",
        "\n",
        "Statements represent an action or command e.g print statements, assignment statements. Expression is a combination of variables, operations and values that yields a result value."
      ],
      "metadata": {
        "id": "vFQdkK20Shqt"
      }
    },
    {
      "cell_type": "markdown",
      "source": [
        "6. After running the following code, what does the variable bacon contain?\n",
        "\n",
        "bacon = 22\n",
        "bacon + 1\n",
        "ANS  is 22\n"
      ],
      "metadata": {
        "id": "7-rvCtSASl_y"
      }
    },
    {
      "cell_type": "markdown",
      "source": [
        "7. What should the values of the following two terms be?\n",
        "\n",
        "'spam' + 'spamspam'--------- spamspamspam\n",
        "'spam' * 3------------------------ spamspamspam\n"
      ],
      "metadata": {
        "id": "tmyureEiSrb1"
      }
    },
    {
      "cell_type": "markdown",
      "source": [
        "8. Why is eggs a valid variable name while 100 is invalid?\n",
        "\n",
        "1.\tA variable name must start with a letter or the underscore character.\n",
        "2.\tA variable name cannot start with a number.\n",
        "3.\tA variable name can only contain alpha-numeric characters and underscores (A-z, 0-9, and _ ).\n",
        "That’s why 100 is invalid & eggs is valid variable\n"
      ],
      "metadata": {
        "id": "9hyhe3YhSzoT"
      }
    },
    {
      "cell_type": "markdown",
      "source": [
        "9. What three functions can be used to get the integer, floating-point number, or string version of a value?\n",
        "\n",
        "int(), float(), & str() "
      ],
      "metadata": {
        "id": "RuAhBoaeTM16"
      }
    },
    {
      "cell_type": "markdown",
      "source": [
        "10. Why does this expression cause an error? How can you fix it?\n",
        "\n",
        "'I have eaten ' + 99 + ' burritos.'\n",
        "TypeError: can only concatenate str (not \"int\") to str\n",
        "Here 99 is an integer value and remaining are string. The concatenation of integer and string is not possible. We have to convert 99 in to string i.e. ‘99’.\n",
        "\n"
      ],
      "metadata": {
        "id": "DDTJKYkETUlj"
      }
    }
  ]
}