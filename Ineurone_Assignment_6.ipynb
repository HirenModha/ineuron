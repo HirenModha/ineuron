{
  "nbformat": 4,
  "nbformat_minor": 0,
  "metadata": {
    "colab": {
      "name": "Ineurone-Assignment_6.ipynb",
      "provenance": []
    },
    "kernelspec": {
      "name": "python3",
      "display_name": "Python 3"
    },
    "language_info": {
      "name": "python"
    }
  },
  "cells": [
    {
      "cell_type": "code",
      "execution_count": null,
      "metadata": {
        "id": "F75Gxe4HtrKe"
      },
      "outputs": [],
      "source": [
        "1. What are escape characters, and how do you use them?\n",
        "\n",
        "\\'\tSingle Quote\tif you include an apostrophe without escaping it\n",
        "\\\\\tBackslash\t  if you want to include a backslash character in a string, you will need to escape that. For example, if you want to print a directory path in Windows, you'll need to escape each backslash in the string:\n",
        "print(\"C:\\\\Users\\\\Pat\\\\Desktop\")\n",
        "Output:\n",
        "C:\\Users\\Pat\\Desktop\n",
        "\\n\tNew Line\trTo add newlines to your string,\n",
        "\n",
        "\\r\tCarriage Return\t\\r represents a carriage return character\n",
        "\\t\tTab\t\"\\t\" is a tab,\n",
        "\\b\tBackspace\t ASCII Backspacet »\n",
        "\n",
        "\\f\tForm Feed\tASCII Formfeed (FF)\n",
        "\\ooo\tOctal value\tA backslash followed by three integers will result in a octal value:\n",
        "\\xhh\tHex value\tA backslash followed by an 'x' and a hex number represents a hex value:\n"
      ]
    },
    {
      "cell_type": "markdown",
      "source": [
        "2. What do the escape characters n and t stand for?\n",
        "\\n\tNew Line\trTo add newlines to your string,\n",
        "\n",
        "\\t\tTab\t\"\\t\" is a tab, to add tab\n"
      ],
      "metadata": {
        "id": "THoUc7Vct6ww"
      }
    },
    {
      "cell_type": "markdown",
      "source": [
        "3. What is the way to include backslash characters in a string?\n",
        "\n",
        "\\\\\tBackslash\tTry it » An important thing to remember is that, if you want to include a backslash character in a string, you will need to escape that. For example, if you want to print a directory path in Windows, you'll need to escape each backslash in the string:\n",
        "print(\"C:\\\\Users\\\\Pat\\\\Desktop\")\n",
        "Output:\n",
        "C:\\Users\\Pat\\Desktop\n"
      ],
      "metadata": {
        "id": "zZzZCvpWt_1l"
      }
    },
    {
      "cell_type": "markdown",
      "source": [
        "4. The string \"Howl's Moving Castle\" is a correct value. Why isn't the single quote character in the word Howl's not escaped a problem?\n",
        "\n",
        "\n",
        "\n",
        "\n",
        "Everything inside a double quote or single quote i.e. “ ” & ‘ ‘, is considered as a string. And that’s why in How’s not escaped a problem."
      ],
      "metadata": {
        "id": "MqFJa7AiuGE9"
      }
    },
    {
      "cell_type": "markdown",
      "source": [
        "5. How do you write a string of newlines if you don't want to use the n character?\n",
        "\n",
        "In the Python 3 print without newline example below, we want the strings to print on same line in Python. To get that working just add end=”” inside print() as shown in the example below:\n",
        "print(\"Hello World \", end=\"\")\n",
        "print(\"Welcome to Guru99 Tutorials\")\n",
        "\n",
        "\n",
        "Output:\n",
        "Hello World Welcome to Guru99 Tutorials\n",
        "\n",
        "Also if we don’t use \\n we utilize  “for loop”\n",
        "mylist = [\"PHP\", \"JAVA\", \"C++\", \"C\", \"PHYTHON\"]\n",
        "for i in mylist:\n",
        "\tprint(i)\n",
        "Output:\n",
        "PHP\n",
        "JAVA\n",
        "C++\n",
        "C\n",
        "PHYTHON\n",
        "\n",
        "\n"
      ],
      "metadata": {
        "id": "3-MlvIjeuNQg"
      }
    },
    {
      "cell_type": "markdown",
      "source": [
        "6. What are the values of the given expressions?\n",
        "\n",
        "'Hello, world!'[1]---e\n",
        "'Hello, world!'[0:5]---- Hello\n",
        "'Hello, world!'[:5]---- Hello\n",
        "'Hello, world!'[3:]----- lo, world!\n"
      ],
      "metadata": {
        "id": "FhBGJbmzuYkN"
      }
    },
    {
      "cell_type": "markdown",
      "source": [
        "7. What are the values of the following expressions?\n",
        "'Hello'.upper()---------HELLO\n",
        "'Hello'.upper().isupper()------True\n",
        "'Hello'.upper().lower()------hello\n"
      ],
      "metadata": {
        "id": "ti_CudNFucZj"
      }
    },
    {
      "cell_type": "markdown",
      "source": [
        "8. What are the values of the following expressions?\n",
        "'Remember, remember, the fifth of July.'.split()------['Remember,', 'remember,', 'the', 'fifth', 'of', 'July.']\n",
        "'-'.join('There can only one.'.split())----There-can-only-one.\n"
      ],
      "metadata": {
        "id": "J7dtStkJuirA"
      }
    },
    {
      "cell_type": "markdown",
      "source": [
        "9. What are the methods for right-justifying, left-justifying, and centering a string?\n",
        "\n",
        " ljust()-left-justifying,\n",
        " rjust()-right-justifying,\n",
        " center()-centering\n"
      ],
      "metadata": {
        "id": "zAYOhEBeujPj"
      }
    },
    {
      "cell_type": "markdown",
      "source": [
        "10. What is the best way to remove whitespace characters from the start or end?\n",
        "To remove whitespace characters from the beginning or from the end of a string only, you use the trimStart() or trimEnd() method\n"
      ],
      "metadata": {
        "id": "gcf0iwLeuovn"
      }
    }
  ]
}