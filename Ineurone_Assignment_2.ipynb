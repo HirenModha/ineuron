{
  "nbformat": 4,
  "nbformat_minor": 0,
  "metadata": {
    "colab": {
      "name": "Ineurone-Assignment_2.ipynb",
      "provenance": [],
      "collapsed_sections": []
    },
    "kernelspec": {
      "name": "python3",
      "display_name": "Python 3"
    },
    "language_info": {
      "name": "python"
    }
  },
  "cells": [
    {
      "cell_type": "markdown",
      "source": [
        "1.What are the two values of the Boolean data type? How do you write them?\n",
        "\n",
        "The Python Boolean type has only two possible values:\n",
        "1.\tTrue\n",
        "2.\tFalse\n",
        "The type() of both False and True is bool. You can declare a boolean value in your code using the keywords True and False (note the uppercase).  For example, the expression 1 <= 2 is True, while the expression 0 == 1 is False. \n",
        "\n"
      ],
      "metadata": {
        "id": "rBx8r4vBVIrM"
      }
    },
    {
      "cell_type": "markdown",
      "source": [
        "2. What are the three different types of Boolean operators?\n",
        "The logical operators ‘and’, ‘or’ and ‘not’ are also referred to as boolean operators. While and as well as or operator needs two operands, which may evaluate to true or false, not operator needs one operand evaluating to true or false."
      ],
      "metadata": {
        "id": "ic83072BVUJj"
      }
    },
    {
      "cell_type": "markdown",
      "source": [
        "3. Make a list of each Boolean operator's truth tables (i.e. every possible combination of Boolean values for the operator and what it evaluate ).\n",
        "\n",
        " “and” operator\t\n",
        "\n",
        "True\tTrue\tTrue\n",
        "True\tFalse\tFalse\n",
        "False\tTrue\tFalse\n",
        "False\tFalse\tFalse\n",
        "\n",
        "“or” Operator\n",
        "\n",
        "\tTrue\tTrue\tTrue\n",
        "  True\tFalse\tTrue\n",
        "  False\tTrue\tTrue\n",
        "  False\tFalse\tFalse\n",
        "\t\n",
        "  \n",
        "  \n",
        "“ not” Opearator\n",
        "  True\tFalse\n",
        "  False\tTrue\n",
        "\n"
      ],
      "metadata": {
        "id": "JCYJypNtVaDO"
      }
    },
    {
      "cell_type": "markdown",
      "source": [
        "4. What are the values of the following expressions?\n",
        "(5 > 4) and (3 == 5) =---------------------------------False\n",
        "not (5 > 4) = -----------------------------------------True\n",
        "(5 > 4) or (3 == 5) =----------------------------------True\n",
        "not ((5 > 4) or (3 == 5)) =----------------------------False\n",
        "(True and True) and (True == False) =------------------False\n",
        "(not False) or (not True) =----------------------------True\n"
      ],
      "metadata": {
        "id": "a4MTRKy1WSQQ"
      }
    },
    {
      "cell_type": "markdown",
      "source": [
        "5. What are the six comparison operators?\n",
        "\n",
        "==\tEqual to\n",
        "!=\tNot Equal to\n",
        "<\tLess Than\n",
        ">\tGreater Than\n",
        "<=\tLess than or Equal to\n",
        ">=\tGreater than or Equal to\n"
      ],
      "metadata": {
        "id": "1CaPYV5FWqdd"
      }
    },
    {
      "cell_type": "markdown",
      "source": [
        "6. How do you tell the difference between the equal to and assignment operators? Describe a condition and when you would use one.\n",
        "\n",
        "In equal to operator we use double (2 times) “==”, while  in assignment operator we use single “=”.\n",
        "The “==” operators is used to check condition when two variables are equal or not. While assignment operator is used to store value in variable.\n",
        "a==b means here it is going to check that both are equals or not. \n",
        "a=b means the value of a is equal to the value holds by b.\n"
      ],
      "metadata": {
        "id": "EoTpVyhSWw6I"
      }
    },
    {
      "cell_type": "markdown",
      "source": [
        "7. Identify the three blocks in this code:\n",
        "\n",
        "spam = 0\n",
        "if spam == 10:-----------block1\n",
        "  print('eggs')------------\n",
        "if spam > 5:----------------------------------block2\n",
        "  print('bacon')------------------------------\n",
        "else:\n",
        "  print('ham')-----------------------------------------block3\n",
        "  print('spam')----------------------------------------\n",
        "  print('spam')----------------------------------------\n",
        "\n",
        "\n",
        "\n",
        "\n"
      ],
      "metadata": {
        "id": "DywWZqxTW27B"
      }
    },
    {
      "cell_type": "markdown",
      "source": [
        "8. Write code that prints Hello if 1 is stored in spam, prints Howdy if 2 is stored in spam, and prints Greetings! if anything else is stored in spam.\n",
        "\n",
        "spam=int(input(\"enter the value of spam. :\"))\n",
        "if spam==1 :\n",
        "  print(\"Hello\")\n",
        "elif spam==2 :\n",
        "    print(\"Howdy\")\n",
        "else : \n",
        "    print(\"Greetings!\")\n"
      ],
      "metadata": {
        "id": "dkNeIHdNYLja"
      }
    },
    {
      "cell_type": "markdown",
      "source": [
        "9.If your programme is stuck in an endless loop, what keys you’ll press?\n",
        "\n",
        "To exit out of infinite loops on the command line, press CTRL + C "
      ],
      "metadata": {
        "id": "dL5z6PVeYUIu"
      }
    },
    {
      "cell_type": "markdown",
      "source": [
        "10. How can you tell the difference between break and continue?\n",
        "\n",
        "The Python break statement stops the loop in which the statement is placed. A Python continue statement skips a single iteration in a loop.\n",
        "\n",
        "i=1\n",
        "for i in range(1,20,3):\n",
        "  if i==10:\n",
        "    break\n",
        "  print(i)\n",
        "Output:\n",
        "\n",
        "1\n",
        "4\n",
        "7\n",
        "\n",
        "\n",
        "i=1\n",
        "for i in range(1,20,3):\n",
        "  if i==10:\n",
        "    continue\n",
        "  print(i)\n",
        "Output:\n",
        "\n",
        "1\n",
        "4\n",
        "7\n",
        "13\n",
        "16\n",
        "19\n"
      ],
      "metadata": {
        "id": "zzPWeAdkYaaP"
      }
    },
    {
      "cell_type": "markdown",
      "source": [
        "11. In a for loop, what is the difference between range(10), range(0, 10), and range(0, 10, 1)?\n",
        "\n",
        "\n",
        "Python range() function generates the immutable sequence of numbers starting from the given start integer to the stop integer. It is a built-in function that returns a range object consists of a series of integer numbers, which we can iterate using a for loop.\n",
        "\n",
        "\n",
        "i=1\n",
        "for i in range(10):\n",
        "  if i==10:\n",
        "    break\n",
        "  print(i)\n",
        "\n",
        "Output:\n",
        "\n",
        "0\n",
        "1\n",
        "2\n",
        "3\n",
        "4\n",
        "5\n",
        "6\n",
        "7\n",
        "8\n",
        "9\n",
        "\n",
        "the range(10) means your loop is iterating for 10 times started with default value 0, and ends with 9.\n",
        "\n",
        "\n",
        "i=1\n",
        "for i in range(0,10):\n",
        "  if i==10:\n",
        "    break\n",
        "  print(i)\n",
        "output:\n",
        "0\n",
        "1\n",
        "2\n",
        "3\n",
        "4\n",
        "5\n",
        "6\n",
        "7\n",
        "8\n",
        "9\n",
        "\n",
        "\n",
        "the range(0,10) means your loop is iterating for 10 times started with value 0, and ends with 9. If we write range(1,10) means your loop is iterating for 9 times started with value 1, and ends with 9.\n",
        "\n",
        "\n",
        "\n",
        "i=1\n",
        "for i in range(0,10,1):\n",
        "  if i==10:\n",
        "    break\n",
        "  print(i)\n",
        "output:\n",
        "0\n",
        "1\n",
        "2\n",
        "3\n",
        "4\n",
        "5\n",
        "6\n",
        "7\n",
        "8\n",
        "9\n",
        "\n",
        "\n",
        "The range(0,10,1) means your loop is iterating for 10 times started with value 0,  ends with 9 and step size is 1. If we write range(0,10,2) means your loop is iterating for 5 times started with value 0,  ends with 8 and step size is 2"
      ],
      "metadata": {
        "id": "3OLJpI7eYtXP"
      }
    },
    {
      "cell_type": "markdown",
      "source": [
        "12. Write a short program that prints the numbers 1 to 10 using a for loop. Then write an equivalent program that prints the numbers 1 to 10 using a while loop.\n",
        "\n",
        "\n",
        "for i in range(1,11):\n",
        "  \n",
        "  print(i)\n",
        "output:\n",
        "1\n",
        "2\n",
        "3\n",
        "4\n",
        "5\n",
        "6\n",
        "7\n",
        "8\n",
        "9\n",
        "10\n",
        "\n",
        "\n",
        "\n",
        "i=1\n",
        "while(i<=10) :\n",
        "  print(i)\n",
        "  i=i+1\n",
        "  \n",
        "output:\n",
        "1\n",
        "2\n",
        "3\n",
        "4\n",
        "5\n",
        "6\n",
        "7\n",
        "8\n",
        "9\n",
        "10\n"
      ],
      "metadata": {
        "id": "O2QEY6grZhKF"
      }
    },
    {
      "cell_type": "markdown",
      "source": [
        "13. If you had a function named bacon() inside a module named spam, how would you call it after importing spam?\n",
        "\n",
        "spam.bacon()\t"
      ],
      "metadata": {
        "id": "FxT9c3KxZqwn"
      }
    },
    {
      "cell_type": "markdown",
      "source": [
        ""
      ],
      "metadata": {
        "id": "_xr2aiXgYdws"
      }
    }
  ]
}