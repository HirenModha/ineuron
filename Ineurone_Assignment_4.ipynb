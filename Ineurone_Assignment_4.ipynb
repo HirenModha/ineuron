{
  "nbformat": 4,
  "nbformat_minor": 0,
  "metadata": {
    "colab": {
      "name": "Ineurone-Assignment_4.ipynb",
      "provenance": []
    },
    "kernelspec": {
      "name": "python3",
      "display_name": "Python 3"
    },
    "language_info": {
      "name": "python"
    }
  },
  "cells": [
    {
      "cell_type": "markdown",
      "source": [
        "1. What exactly is []?\n",
        "\n",
        "[] is list."
      ],
      "metadata": {
        "id": "LxGfzpuJkb-6"
      }
    },
    {
      "cell_type": "markdown",
      "source": [
        "2. In a list of values stored in a variable called spam, how would you assign the value 'hello' as the third value? (Assume [2, 4, 6, 8, 10] are in spam.)\n",
        "\n",
        "spam.insert(2,\"hello\")"
      ],
      "metadata": {
        "id": "JCLzO2MjkhhN"
      }
    },
    {
      "cell_type": "markdown",
      "source": [
        "Let's pretend the spam includes the list ['a', 'b', 'c', 'd'] for the next three queries."
      ],
      "metadata": {
        "id": "Ln5p0LSkkq_i"
      }
    },
    {
      "cell_type": "markdown",
      "source": [
        "3. What is the value of spam[int(int('3' * 2) / 11)]?\n",
        "\n",
        "'d'"
      ],
      "metadata": {
        "id": "3eS-og7gkxsW"
      }
    },
    {
      "cell_type": "markdown",
      "source": [
        "4. What is the value of spam[-1]?\n",
        "\n",
        "'d'"
      ],
      "metadata": {
        "id": "nq3K0hqUk1U1"
      }
    },
    {
      "cell_type": "markdown",
      "source": [
        "5. What is the value of spam[:2]?\n",
        "\n",
        "['a', 'b']"
      ],
      "metadata": {
        "id": "-b1ILDr8k62w"
      }
    },
    {
      "cell_type": "markdown",
      "source": [
        "Let's pretend bacon has the list [3.14, 'cat,' 11, 'cat,' True] for the next three questions."
      ],
      "metadata": {
        "id": "dAAgxAr1k_5i"
      }
    },
    {
      "cell_type": "markdown",
      "source": [
        "6. What is the value of bacon.index('cat')?\n",
        "\n",
        "1"
      ],
      "metadata": {
        "id": "kiq0XdFqlCZZ"
      }
    },
    {
      "cell_type": "markdown",
      "source": [
        "7. How does bacon.append(99) change the look of the list value in bacon?\n",
        "\n",
        "[3.14, 'cat', 11, 'cat', True, 99]"
      ],
      "metadata": {
        "id": "ASQ9QdiklIJJ"
      }
    },
    {
      "cell_type": "markdown",
      "source": [
        "8. How does bacon.remove('cat') change the look of the list in bacon?\n",
        "\n",
        "[3.14, 11, 'cat', True, 99]"
      ],
      "metadata": {
        "id": "g_6NpdFNlK2N"
      }
    },
    {
      "cell_type": "markdown",
      "source": [
        "9. What are the list concatenation and list replication operators?\n",
        "\n",
        "The most conventional method to perform the list concatenation, the use of “+” operator can easily add the whole of one list behind the other list and hence perform the concatenation.\n",
        "The * operator replicates the elements in the list.\n"
      ],
      "metadata": {
        "id": "oaaznW7ElO5D"
      }
    },
    {
      "cell_type": "markdown",
      "source": [
        "10. What is difference between the list methods append() and insert()?\n",
        "\n",
        "The only difference between append() and insert() is that insert function allows us to add a specific element at a specified index of the list unlike append() where we can add the element only at end of the list."
      ],
      "metadata": {
        "id": "k91x9t3vlWdq"
      }
    },
    {
      "cell_type": "markdown",
      "source": [
        "11. What are the two methods for removing items from a list?\n",
        "\n",
        "The methods are remove(), pop(). \n",
        "The pop() method removes the element at the specified position. Syntax. list.pop(pos).\n",
        "The remove() method takes a single element as an argument and removes it from the list.\n"
      ],
      "metadata": {
        "id": "ykity83QlRCp"
      }
    },
    {
      "cell_type": "markdown",
      "source": [
        "12. Describe how list values and string values are identical.\n",
        "\n",
        "The values that make up a list are called its elements. ... Lists are similar to strings, which are ordered collections of characters, except that the elements of a list can have any type and for any one list, the items can be of different types. List and string both are used to store value /data and both are sequence. string are used to store character in single or double quotes. list are mutable and string are immutable. The similarity between Lists and Strings in Python is that both are sequences. The differences between them are that firstly, Lists are mutable but Strings are immutable. Secondly, elements of a list can be of different types whereas a String only contains characters that are all of String type."
      ],
      "metadata": {
        "id": "2ThobLq9k3r8"
      }
    },
    {
      "cell_type": "markdown",
      "source": [
        "13. What's the difference between tuples and lists?\n",
        "\n",
        "The key difference between the tuples and lists is that while the tuples are immutable objects the lists are mutable. This means that tuples cannot be changed while the lists can be modified. Tuples are more memory efficient than the lists.\n",
        "The declaration or initialization is different. The list can be initialized with ‘[ ]’. While tuple can initialized with ‘( )’.\n"
      ],
      "metadata": {
        "id": "CpYpZkyqlpRn"
      }
    },
    {
      "cell_type": "markdown",
      "source": [
        "14. How do you type a tuple value that only contains the integer 42?\n",
        "\n",
        "hit=(42,)"
      ],
      "metadata": {
        "id": "CBsD1qmhltAv"
      }
    },
    {
      "cell_type": "markdown",
      "source": [
        "15. How do you get a list value's tuple form? How do you get a tuple value's list form?\n",
        "\n",
        "To convert a tuple into list in Python, call list() builtin function and pass the tuple as argument to the function.\n",
        "To convert a list into tuple in Python, call tuple() builtin function and pass the list as argument to the function.\n",
        "\n",
        "\n",
        "Three common and most widely used methods to convert lists to a tuple in python programming.\n",
        "1.\t1) Using tuple() builtin function.\n",
        "2.\t2) Using loop inside the tuple.\n",
        "3.\t3) Unpack list inside the parenthesis.\n",
        "\n"
      ],
      "metadata": {
        "id": "KkLCh9V5lxj6"
      }
    },
    {
      "cell_type": "markdown",
      "source": [
        "16. Variables that \"contain\" list values are not necessarily lists themselves. Instead, what do they contain?\n",
        "\n",
        "Variables will contain references to list values rather than list values themselves. But for strings and integer values, variables simply contain the string or integer value."
      ],
      "metadata": {
        "id": "PxBYtbpRmAtU"
      }
    },
    {
      "cell_type": "markdown",
      "source": [
        "17. How do you distinguish between copy.copy() and copy.deepcopy()?\n",
        "\n",
        "Essentially, sometimes you may want to have the original values unchanged and only modify the new values or vice versa. In Python, there are two ways to create copies:\n",
        "1.\tShallow Copy\n",
        "2.\tDeep Copy\n",
        "Shallow Copy\n",
        "A shallow copy creates a new object which stores the reference of the original elements.\n",
        "So, a shallow copy doesn't create a copy of nested objects, instead it just copies the reference of nested objects. This means, a copy process does not recurse or create copies of nested objects itself.\n",
        "\n",
        "Deep Copy\n",
        "\n",
        "A deep copy creates a new object and recursively adds the copies of nested objects present in the original elements.\n",
        "Let’s continue with example 2. However, we are going to create deep copy using deepcopy() function present in copy module. The deep copy creates independent copy of original object and all its nested objects.\n",
        "\n",
        "\n"
      ],
      "metadata": {
        "id": "51_IX0EcpPdx"
      }
    }
  ]
}